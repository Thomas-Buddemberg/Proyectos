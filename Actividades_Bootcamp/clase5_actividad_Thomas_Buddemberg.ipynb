{
 "cells": [
  {
   "cell_type": "markdown",
   "metadata": {},
   "source": [
    "# Insertion Sort\n",
    "## Thomas Buddemberg\n",
    "\n",
    "Gif que explica el algoritmo\n",
    "https://upload.wikimedia.org/wikipedia/commons/0/0f/Insertion-sort-example-300px.gif\n",
    "\n",
    "Este algoritmo sigue la misma lógica que ordenar una mano de cartas cuando se juega a la escala en al karioka.\n",
    "\n",
    "Se va carta por carta o valor por valor y al seleccionarlo se ingresa a una lista de datos preordenados.\n",
    "Ej: 1,7,2,4,3,8,9\n",
    "\n",
    "En este caso lo haremos de la siguiente forma, tomaremos 1 de la lista y lo agregamos a una lista donde es el primer dato.\n",
    "\n",
    "1 | 7,2,4,3,8,9, ahora pasaremos por el 7 y lo pondremos adelante del 1.\n",
    "\n",
    "1,7 | 2,4,3,8,9 y así los datos que vamos seleccionando los vamos ingresando a la lista de la izquierda en la posición que le corresponda.\n"
   ]
  },
  {
   "cell_type": "code",
   "execution_count": 1,
   "metadata": {
    "run_control": {
     "marked": false
    }
   },
   "outputs": [
    {
     "name": "stdout",
     "output_type": "stream",
     "text": [
      "[1, 7, 2, 4, 3, 8, 9]\n",
      "[1, 2, 3, 4, 7, 8, 9]\n",
      "0.0009729862213134766\n"
     ]
    }
   ],
   "source": [
    "import time\n",
    "inicio = time.time()\n",
    "\n",
    "def ordenar(lista):\n",
    "\n",
    "    for i in range(1, len(lista)):\n",
    "        objetivo = lista[i]\n",
    "        j = i - 1       \n",
    "        while j >= 0 and objetivo < lista[j]:\n",
    "            lista[j + 1] = lista[j]\n",
    "            j = j - 1\n",
    "        lista[j + 1] = objetivo\n",
    "\n",
    "\n",
    "lista = [1, 7, 2, 4, 3, 8, 9]\n",
    "print(lista)\n",
    "ordenar(lista)\n",
    "print(lista)\n",
    "\n",
    "fin = time.time()\n",
    "print(fin-inicio)"
   ]
  },
  {
   "cell_type": "code",
   "execution_count": null,
   "metadata": {},
   "outputs": [],
   "source": []
  },
  {
   "cell_type": "code",
   "execution_count": null,
   "metadata": {},
   "outputs": [],
   "source": []
  }
 ],
 "metadata": {
  "hide_input": false,
  "kernelspec": {
   "display_name": "Python 3 (ipykernel)",
   "language": "python",
   "name": "python3"
  },
  "language_info": {
   "codemirror_mode": {
    "name": "ipython",
    "version": 3
   },
   "file_extension": ".py",
   "mimetype": "text/x-python",
   "name": "python",
   "nbconvert_exporter": "python",
   "pygments_lexer": "ipython3",
   "version": "3.7.1"
  },
  "nbTranslate": {
   "displayLangs": [
    "*"
   ],
   "hotkey": "alt-t",
   "langInMainMenu": true,
   "sourceLang": "en",
   "targetLang": "fr",
   "useGoogleTranslate": true
  },
  "toc": {
   "base_numbering": 1,
   "nav_menu": {},
   "number_sections": true,
   "sideBar": true,
   "skip_h1_title": false,
   "title_cell": "Table of Contents",
   "title_sidebar": "Contents",
   "toc_cell": false,
   "toc_position": {},
   "toc_section_display": true,
   "toc_window_display": false
  },
  "varInspector": {
   "cols": {
    "lenName": 16,
    "lenType": 16,
    "lenVar": 40
   },
   "kernels_config": {
    "python": {
     "delete_cmd_postfix": "",
     "delete_cmd_prefix": "del ",
     "library": "var_list.py",
     "varRefreshCmd": "print(var_dic_list())"
    },
    "r": {
     "delete_cmd_postfix": ") ",
     "delete_cmd_prefix": "rm(",
     "library": "var_list.r",
     "varRefreshCmd": "cat(var_dic_list()) "
    }
   },
   "types_to_exclude": [
    "module",
    "function",
    "builtin_function_or_method",
    "instance",
    "_Feature"
   ],
   "window_display": false
  }
 },
 "nbformat": 4,
 "nbformat_minor": 2
}
