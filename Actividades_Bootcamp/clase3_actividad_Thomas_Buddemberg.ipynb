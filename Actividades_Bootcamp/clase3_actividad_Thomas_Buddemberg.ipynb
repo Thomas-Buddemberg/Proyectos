{
 "cells": [
  {
   "cell_type": "markdown",
   "metadata": {
    "id": "58gt2w67rezq"
   },
   "source": [
    "# Actividad\n",
    "## Thomas Buddemberg\n",
    "\n",
    "Ahora que ya tiene manejo sobre las lista vinculadas queremos ver hasta donde pueden llegar.\n",
    "\n",
    "Para esta actividad le pediremos que creen nuevas funciones sobre la estructura que ya hicimos\n",
    "\n",
    "Para la actividad usted tendra que crear la funcion:\n",
    "\n",
    "- La función insert(indice,valor), que recibira un indice y un valor y los agregara a la lista. \n",
    "- La función update(indice,valor), que modificara el valor del nodo el la posición indice\n",
    "- La función shit que removera el primer valor de la lista\n",
    "- La función pop que removera el último valor de la liista\n",
    "- La función que remove(indice,valor) un valor en base a su indice\n",
    "- La función reverse que nos escribira la lista desde la cola hacia la cabeza\n",
    "\n",
    "\n"
   ]
  },
  {
   "cell_type": "code",
   "execution_count": 12,
   "metadata": {},
   "outputs": [],
   "source": [
    "class VNode:\n",
    "  def __init__(self,valor):\n",
    "    self.valor = valor\n",
    "    self.nodo_siguiente = None\n",
    "  \n",
    "  def __str__(self):\n",
    "    return str(self.valor)\n",
    "\n",
    "class Vlist:\n",
    "  def __init__(self):\n",
    "    self.cabeza = None\n",
    "    self.cola = None\n",
    "    self.tamaño = 0 #opcional\n",
    "\n",
    "  def __str__(self):\n",
    "    # Muestra los elementos de la linkedlist\n",
    "        array = []\n",
    "        nodo_actual = self.cabeza\n",
    "        while nodo_actual != None:\n",
    "            array.append(nodo_actual.valor)\n",
    "            nodo_actual = nodo_actual.nodo_siguiente\n",
    "        return str(array) + \" Tamaño: \" + str(self.tamaño)\n",
    "\n",
    "    \n",
    "  def print_values(self):\n",
    "    actual = self.cabeza # Variable que apunta al primer nodo de la lista\n",
    "    while actual != None: # Vamos a revisar la lista hasta que el nodo en el que estamos no tenga un siguiente nodo a revisar\n",
    "      print(actual.valor)\n",
    "      actual = actual.nodo_siguiente # Le decimo a actual que tome la información del siguiente nodo\n",
    "\n",
    "    return self\n",
    "\n",
    "  def get(self, indice):\n",
    "    # Obtiene un nodo dado un indice\n",
    "    if indice == self.tamaño - 1:\n",
    "      return self.cola\n",
    "    elif indice == 0:\n",
    "      return self.cabeza\n",
    "    elif not (indice >= self.tamaño or indice < 0):\n",
    "      nodo_actual = self.cabeza\n",
    "      contador = 0\n",
    "      while contador != indice:\n",
    "        nodo_actual = nodo_actual.nodo_siguiente\n",
    "        contador  += 1\n",
    "      return nodo_actual\n",
    "    else:\n",
    "      return None\n",
    "\n",
    "  def prepend(self, valor):\n",
    "        # Agrega un elemento al principio de la linkedlist\n",
    "        nuevo_nodo = VNode(valor)\n",
    "        if self.cabeza == None and self.cola == None:\n",
    "            self.cabeza = nuevo_nodo\n",
    "            self.cola = nuevo_nodo\n",
    "        else:\n",
    "            nuevo_nodo.nodo_siguiente = self.cabeza\n",
    "            self.cabeza = nuevo_nodo\n",
    "        self.tamaño += 1\n",
    "\n",
    "        #para poder enlazar metodos\n",
    "        return self\n",
    "\n",
    "  def append(self, valor):\n",
    "        # Agrega un elemento al final de la linkedlist\n",
    "        nuevo_nodo = VNode(valor)\n",
    "        if self.cabeza == None and self.cola == None:\n",
    "            self.cabeza = nuevo_nodo\n",
    "            self.cola = nuevo_nodo\n",
    "        else:\n",
    "            self.cola.nodo_siguiente = nuevo_nodo\n",
    "            self.cola = nuevo_nodo\n",
    "        self.tamaño += 1\n",
    "\n",
    "        #para poder enlazar metodos\n",
    "        return self\n",
    "\n",
    "\n",
    "\n",
    "#-----------------------------------------------------------------------------------------------------------\n",
    "\n",
    "  def insert(self, indice, valor):\n",
    "        nodo_actual = self.cabeza\n",
    "        nuevo_indice = 0\n",
    "\n",
    "        while nuevo_indice<indice-1:\n",
    "          nodo_actual=nodo_actual.nodo_siguiente\n",
    "          nuevo_indice= nuevo_indice+1\n",
    "        new_node = VNode(valor)\n",
    "        new_node_siguiente = nodo_actual.nodo_siguiente\n",
    "        nodo_actual.nodo_siguiente=new_node\n",
    "        if new_node.nodo_siguiente is None:\n",
    "            self.cola=new_node\n",
    "        return self\n",
    "\n",
    "\n",
    "        pass\n",
    "\n",
    "    \n",
    "  def update(self, indice, valor):\n",
    "        nodo_obj = self.get(indice)\n",
    "        if nodo_obj != None :\n",
    "           nodo_obj.valor = valor\n",
    "        else:\n",
    "          print('El nodo no existe') \n",
    "\n",
    "        pass\n",
    "\n",
    "  def shift(self):\n",
    "        if self.tamaño == 0:\n",
    "          self.cola = None\n",
    "          self.cabeza = None \n",
    "\n",
    "        else:\n",
    "          self.cabeza = self.cabeza.nodo_siguiente\n",
    "          self.tamaño = self.tamaño - 1\n",
    "\n",
    "        pass\n",
    "\n",
    "  def pop(self):\n",
    "        if self.tamaño == 0:\n",
    "            self.cabeza = None\n",
    "            self.cola = None\n",
    "        else:\n",
    "            nodo_actual = self.cabeza\n",
    "            nueva_cola = nodo_actual\n",
    "            contador = self.tamaño\n",
    "            while contador != 0:\n",
    "                if nodo_actual.nodo_siguiente != self.cabeza:\n",
    "                    nueva_cola = nodo_actual\n",
    "                    nodo_actual = nodo_actual.nodo_siguiente\n",
    "                else:\n",
    "                    break\n",
    "            self.cola = nueva_cola\n",
    "            self.cola.nodo_siguiente = self.cabeza\n",
    "            self.tamaño -= 1\n",
    "            return print(nodo_actual.valor)\n",
    "  \n",
    "        pass\n",
    "\n",
    "  def remove(self, indice):\n",
    "        # Si tenemos una lista con los valores [1,2,3]\n",
    "        # Si ejecutamos remove(1)\n",
    "        # Obtendremos [1,3]\n",
    "        # Ya que el 2 estaba en la posición 1 se elimina\n",
    "\n",
    "        nodo_obj = self.get(indice)\n",
    "        del(nodo_obj)\n",
    "        \n",
    "        pass\n",
    "\n",
    "  def reverse(self):\n",
    "        # Si tenemos una lista con los valores [1,2,3]\n",
    "        # Si ejecutamos reverse()\n",
    "        # Obtendremos [3,2,1]\n",
    "        prev = None\n",
    "        current = self.cabeza\n",
    "        while(current is not None):\n",
    "            next = current.nodo_siguiente\n",
    "            current.next = prev\n",
    "            prev = current\n",
    "            current = next\n",
    "        self.cabeza = prev\n",
    "    \n",
    "        pass"
   ]
  },
  {
   "cell_type": "code",
   "execution_count": 2,
   "metadata": {},
   "outputs": [
    {
     "name": "stdout",
     "output_type": "stream",
     "text": [
      "[1, 2, 3, 4] Tamaño: 4\n",
      "[1, 2, 3, 7] Tamaño: 4\n"
     ]
    }
   ],
   "source": [
    "lista = Vlist()\n",
    "lista.append(1).append(2).append(3).append(4)\n",
    "print(lista)\n",
    "\n",
    "#La función insert(indice,valor), que recibira un indice y un valor y los agregara a la lista.\n",
    "lista.insert(3,7)\n",
    "print(lista)"
   ]
  },
  {
   "cell_type": "code",
   "execution_count": 3,
   "metadata": {},
   "outputs": [
    {
     "name": "stdout",
     "output_type": "stream",
     "text": [
      "[4, 2, 3, 4] Tamaño: 4\n"
     ]
    }
   ],
   "source": [
    "lista = Vlist()\n",
    "lista.append(1).append(2).append(3).append(4)\n",
    "\n",
    "#La función update(indice,valor), que modificara el valor del nodo el la posición indice\n",
    "lista.update(0,4)\n",
    "print(lista)"
   ]
  },
  {
   "cell_type": "code",
   "execution_count": 4,
   "metadata": {},
   "outputs": [
    {
     "name": "stdout",
     "output_type": "stream",
     "text": [
      "[2, 3, 4] Tamaño: 3\n"
     ]
    }
   ],
   "source": [
    "lista = Vlist()\n",
    "lista.append(1).append(2).append(3).append(4)\n",
    "\n",
    "#La función shift que removera el primer valor de la lista\n",
    "lista.shift()\n",
    "print(lista)"
   ]
  },
  {
   "cell_type": "code",
   "execution_count": 14,
   "metadata": {},
   "outputs": [
    {
     "ename": "AttributeError",
     "evalue": "'NoneType' object has no attribute 'nodo_siguiente'",
     "output_type": "error",
     "traceback": [
      "\u001b[1;31m---------------------------------------------------------------------------\u001b[0m",
      "\u001b[1;31mAttributeError\u001b[0m                            Traceback (most recent call last)",
      "\u001b[1;32m<ipython-input-14-bebef85b223b>\u001b[0m in \u001b[0;36m<module>\u001b[1;34m\u001b[0m\n\u001b[0;32m      3\u001b[0m \u001b[1;33m\u001b[0m\u001b[0m\n\u001b[0;32m      4\u001b[0m \u001b[1;31m# La función pop que removera el último valor de la liista\u001b[0m\u001b[1;33m\u001b[0m\u001b[1;33m\u001b[0m\u001b[1;33m\u001b[0m\u001b[0m\n\u001b[1;32m----> 5\u001b[1;33m \u001b[0mlista\u001b[0m\u001b[1;33m.\u001b[0m\u001b[0mpop\u001b[0m\u001b[1;33m(\u001b[0m\u001b[1;33m)\u001b[0m\u001b[1;33m\u001b[0m\u001b[1;33m\u001b[0m\u001b[0m\n\u001b[0m\u001b[0;32m      6\u001b[0m \u001b[0mprint\u001b[0m\u001b[1;33m(\u001b[0m\u001b[0mlista\u001b[0m\u001b[1;33m)\u001b[0m\u001b[1;33m\u001b[0m\u001b[1;33m\u001b[0m\u001b[0m\n",
      "\u001b[1;32m<ipython-input-12-15eb45272812>\u001b[0m in \u001b[0;36mpop\u001b[1;34m(self)\u001b[0m\n\u001b[0;32m    127\u001b[0m             \u001b[0mcontador\u001b[0m \u001b[1;33m=\u001b[0m \u001b[0mself\u001b[0m\u001b[1;33m.\u001b[0m\u001b[0mtamaño\u001b[0m\u001b[1;33m\u001b[0m\u001b[1;33m\u001b[0m\u001b[0m\n\u001b[0;32m    128\u001b[0m             \u001b[1;32mwhile\u001b[0m \u001b[0mcontador\u001b[0m \u001b[1;33m!=\u001b[0m \u001b[1;36m0\u001b[0m\u001b[1;33m:\u001b[0m\u001b[1;33m\u001b[0m\u001b[1;33m\u001b[0m\u001b[0m\n\u001b[1;32m--> 129\u001b[1;33m                 \u001b[1;32mif\u001b[0m \u001b[0mnodo_actual\u001b[0m\u001b[1;33m.\u001b[0m\u001b[0mnodo_siguiente\u001b[0m \u001b[1;33m!=\u001b[0m \u001b[0mself\u001b[0m\u001b[1;33m.\u001b[0m\u001b[0mcabeza\u001b[0m\u001b[1;33m:\u001b[0m\u001b[1;33m\u001b[0m\u001b[1;33m\u001b[0m\u001b[0m\n\u001b[0m\u001b[0;32m    130\u001b[0m                     \u001b[0mnueva_cola\u001b[0m \u001b[1;33m=\u001b[0m \u001b[0mnodo_actual\u001b[0m\u001b[1;33m\u001b[0m\u001b[1;33m\u001b[0m\u001b[0m\n\u001b[0;32m    131\u001b[0m                     \u001b[0mnodo_actual\u001b[0m \u001b[1;33m=\u001b[0m \u001b[0mnodo_actual\u001b[0m\u001b[1;33m.\u001b[0m\u001b[0mnodo_siguiente\u001b[0m\u001b[1;33m\u001b[0m\u001b[1;33m\u001b[0m\u001b[0m\n",
      "\u001b[1;31mAttributeError\u001b[0m: 'NoneType' object has no attribute 'nodo_siguiente'"
     ]
    }
   ],
   "source": [
    "lista = Vlist()\n",
    "lista.append(1).append(2).append(3).append(4)\n",
    "\n",
    "# La función pop que removera el último valor de la liista\n",
    "lista.pop()\n",
    "print(lista)"
   ]
  },
  {
   "cell_type": "code",
   "execution_count": null,
   "metadata": {},
   "outputs": [],
   "source": [
    "lista = Vlist()\n",
    "lista.append(1).append(2).append(3).append(4)\n",
    "\n",
    "# La función pop que removera el último valor de la liista\n",
    "lista.remove(2)\n",
    "print(lista)"
   ]
  },
  {
   "cell_type": "code",
   "execution_count": null,
   "metadata": {},
   "outputs": [],
   "source": [
    "lista = Vlist()\n",
    "lista.append(1).append(2).append(3).append(4)\n",
    "\n",
    "# La función pop que removera el último valor de la liista\n",
    "lista.reverse()\n",
    "print(lista)"
   ]
  },
  {
   "cell_type": "code",
   "execution_count": null,
   "metadata": {},
   "outputs": [],
   "source": []
  }
 ],
 "metadata": {
  "colab": {
   "name": "4.1 Actividad.ipynb",
   "provenance": []
  },
  "hide_input": false,
  "kernelspec": {
   "display_name": "Python 3 (ipykernel)",
   "language": "python",
   "name": "python3"
  },
  "language_info": {
   "codemirror_mode": {
    "name": "ipython",
    "version": 3
   },
   "file_extension": ".py",
   "mimetype": "text/x-python",
   "name": "python",
   "nbconvert_exporter": "python",
   "pygments_lexer": "ipython3",
   "version": "3.7.1"
  },
  "nbTranslate": {
   "displayLangs": [
    "*"
   ],
   "hotkey": "alt-t",
   "langInMainMenu": true,
   "sourceLang": "en",
   "targetLang": "fr",
   "useGoogleTranslate": true
  },
  "toc": {
   "base_numbering": 1,
   "nav_menu": {},
   "number_sections": true,
   "sideBar": true,
   "skip_h1_title": false,
   "title_cell": "Table of Contents",
   "title_sidebar": "Contents",
   "toc_cell": false,
   "toc_position": {},
   "toc_section_display": true,
   "toc_window_display": false
  },
  "varInspector": {
   "cols": {
    "lenName": 16,
    "lenType": 16,
    "lenVar": 40
   },
   "kernels_config": {
    "python": {
     "delete_cmd_postfix": "",
     "delete_cmd_prefix": "del ",
     "library": "var_list.py",
     "varRefreshCmd": "print(var_dic_list())"
    },
    "r": {
     "delete_cmd_postfix": ") ",
     "delete_cmd_prefix": "rm(",
     "library": "var_list.r",
     "varRefreshCmd": "cat(var_dic_list()) "
    }
   },
   "types_to_exclude": [
    "module",
    "function",
    "builtin_function_or_method",
    "instance",
    "_Feature"
   ],
   "window_display": false
  }
 },
 "nbformat": 4,
 "nbformat_minor": 1
}
