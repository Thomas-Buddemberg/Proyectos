{
 "cells": [
  {
   "cell_type": "markdown",
   "metadata": {
    "id": "-d3YQIPLOaw1"
   },
   "source": [
    "# Actividad\n",
    "## Thomas Buddemberg\n",
    "\n",
    "Ya aprendimos lo basico sobre como usar heroku y estructuras de datos, ahora le pediremos que cree una nueva class que se llamara user en la que usted creara funciones enfocada en realizar las 4 funciones \"Select\", \"Update\", \"Insert Into\" y \"Delete\".\n",
    "\n",
    "La clase user debe estar creada en heroku.\n",
    "\n",
    "CREATE TABLE users  (\n",
    "      user_id SERIAL PRIMARY KEY ,\n",
    "      first_name VARCHAR(255) NOT NULL,\n",
    "      last_name VARCHAR(255) NOT NULL,\n",
    "      email VARCHAR(255) NOT NULL UNIQUE,\n",
    "      phone VARCHAR(255) NOT NULL UNIQUE\n",
    "    );\n",
    "\n",
    "Ustede creara una aplicación que permita ingresar datos en base a un formulario.\n",
    "\n",
    "Buscar a un usuario en base a su id (devuelve vacio si es que no existe)\n",
    "\n",
    "Modificar el telefono de un usuario en base a su id.\n",
    "\n",
    "Y borrar a un usuario en base a su id.\n",
    "\n",
    "Puede usar de base todo los códigos de la clase anterior.\n"
   ]
  },
  {
   "cell_type": "code",
   "execution_count": 81,
   "metadata": {},
   "outputs": [
    {
     "name": "stdout",
     "output_type": "stream",
     "text": [
      "Base de datos Conectada\n",
      "Ejecutado\n",
      "Ingrese Nombre del usuario: Marco\n",
      "Ingrese Apellido del usuario: Rubio\n",
      "Ingrese mail del usuario: marco.rubio97@gmail.com\n",
      "Ingrese teléfono del usuario: 9 7632 0952\n",
      "Ejecutado\n"
     ]
    }
   ],
   "source": [
    "import psycopg2\n",
    "conexion = psycopg2.connect(\n",
    "    database=\"d2o47podqn9gf\",\n",
    "    user=\"dvqlkyuevtiksx\",\n",
    "    password=\"501b48b761cd78c15fb41de35eada948621b492b655b5f81e41d9edeb9ee02d4\",\n",
    "    host=\"ec2-44-194-112-166.compute-1.amazonaws.com\",\n",
    "    port=\"5432\")\n",
    "\n",
    "print(\"Base de datos Conectada\")\n",
    "\n",
    "cur = conexion.cursor()\n",
    "\n",
    "cur.execute('''\n",
    "      CREATE TABLE IF NOT EXISTS usuario (\n",
    "      user_id SERIAL PRIMARY KEY,\n",
    "      first_name VARCHAR(255) NOT NULL,\n",
    "      last_name VARCHAR(255) NOT NULL,\n",
    "      email VARCHAR(255) NOT NULL UNIQUE,\n",
    "      phone VARCHAR(255) NOT NULL UNIQUE\n",
    "    );    \n",
    "    ''')\n",
    "conexion.commit()\n",
    "\n",
    "print(\"Ejecutado\")\n",
    "\n",
    "postgres_insert_query = \"\"\"INSERT INTO\n",
    "    usuario (first_name,last_name,email,phone)\n",
    "    VALUES (%s,%s,%s,%s)\"\"\"\n",
    "\n",
    "Nombre = input('Ingrese Nombre del usuario: ')\n",
    "Apellido =input('Ingrese Apellido del usuario: ')\n",
    "mail = input('Ingrese mail del usuario: ')\n",
    "teléfono = input('Ingrese teléfono del usuario: ')\n",
    "\n",
    "print(\"Ejecutado\")\n",
    "\n",
    "record_to_insert = [Nombre,Apellido,mail,teléfono]\n",
    "\n",
    "cur.execute(postgres_insert_query,record_to_insert)\n",
    "conexion.commit()"
   ]
  },
  {
   "cell_type": "code",
   "execution_count": 82,
   "metadata": {},
   "outputs": [
    {
     "name": "stdout",
     "output_type": "stream",
     "text": [
      "id = 3\n",
      "Nombre = Francisco\n",
      "Apellido = Buddemberg\n",
      "Email = fco.buddem@gmail.com\n",
      "Celular = +569 8945 5751 \n",
      "\n",
      "id = 6\n",
      "Nombre = Constanza\n",
      "Apellido = Zavala\n",
      "Email = co.zava1006@gmail.com\n",
      "Celular = +569 8734 1532 \n",
      "\n",
      "id = 1\n",
      "Nombre = Thomas\n",
      "Apellido = Buddemberg\n",
      "Email = buddenberg17@gmail.com\n",
      "Celular = +569 8938 9921 \n",
      "\n",
      "id = 7\n",
      "Nombre = Marco\n",
      "Apellido = Rubio\n",
      "Email = marco.rubio97@gmail.com\n",
      "Celular = 9 7632 0952 \n",
      "\n",
      "Ejecutado\n"
     ]
    }
   ],
   "source": [
    "cur = conexion.cursor()\n",
    "conexion.commit()\n",
    "\n",
    "cur.execute(\n",
    "    \"\"\"SELECT * from usuario\"\"\"\n",
    ")\n",
    "registros = cur.fetchall()\n",
    "\n",
    "for i in registros:\n",
    "    print(\"id =\", i[0])\n",
    "    print(\"Nombre =\", i[1])\n",
    "    print(\"Apellido =\", i[2])\n",
    "    print(\"Email =\", i[3])\n",
    "    print(\"Celular =\", i[4], \"\\n\")\n",
    "    \n",
    "print(\"Ejecutado\")\n",
    "conexion.commit()"
   ]
  },
  {
   "cell_type": "code",
   "execution_count": 83,
   "metadata": {},
   "outputs": [
    {
     "name": "stdout",
     "output_type": "stream",
     "text": [
      "Ingrese ID del usuario al que desea cambiar el número de teléfono: 7\n",
      "Ingrese el nuevo número: +569 7632 0952\n",
      "Ejecutado\n",
      "Ejecutado\n",
      "id = 3\n",
      "Nombre = Francisco\n",
      "Apellido = Buddemberg\n",
      "Email = fco.buddem@gmail.com\n",
      "Celular = +569 8945 5751 \n",
      "\n",
      "id = 6\n",
      "Nombre = Constanza\n",
      "Apellido = Zavala\n",
      "Email = co.zava1006@gmail.com\n",
      "Celular = +569 8734 1532 \n",
      "\n",
      "id = 1\n",
      "Nombre = Thomas\n",
      "Apellido = Buddemberg\n",
      "Email = buddenberg17@gmail.com\n",
      "Celular = +569 8938 9921 \n",
      "\n",
      "id = 7\n",
      "Nombre = Marco\n",
      "Apellido = Rubio\n",
      "Email = marco.rubio97@gmail.com\n",
      "Celular = +569 7632 0952 \n",
      "\n"
     ]
    }
   ],
   "source": [
    "cur = conexion.cursor()\n",
    "conexion.commit()\n",
    "\n",
    "postgres_update_query = \"\"\"UPDATE usuario set phone = %s where user_id = %s\"\"\"\n",
    "id=input('Ingrese ID del usuario al que desea cambiar el número de teléfono: ')\n",
    "telefono_2 = input('Ingrese el nuevo número: ')\n",
    "record_to_update = [telefono_2, id]\n",
    "cur.execute(postgres_update_query,record_to_update)\n",
    "\n",
    "print(\"Ejecutado\")\n",
    "\n",
    "conexion.commit()\n",
    "\n",
    "#----------------------------------------------------------------------------------------------------------------\n",
    "\n",
    "cur = conexion.cursor()\n",
    "conexion.commit()\n",
    "\n",
    "cur.execute(\n",
    "    \"\"\"SELECT * from usuario\"\"\"\n",
    ")\n",
    "registros = cur.fetchall()\n",
    "\n",
    "for i in registros:\n",
    "    print(\"id =\", i[0])\n",
    "    print(\"Nombre =\", i[1])\n",
    "    print(\"Apellido =\", i[2])\n",
    "    print(\"Email =\", i[3])\n",
    "    print(\"Celular =\", i[4], \"\\n\")\n",
    "conexion.commit()"
   ]
  },
  {
   "cell_type": "code",
   "execution_count": 84,
   "metadata": {},
   "outputs": [
    {
     "name": "stdout",
     "output_type": "stream",
     "text": [
      "Ingrese el ID del ususario al que desea eliminar: 7\n",
      "Ejecutado\n",
      "id = 3\n",
      "Nombre = Francisco\n",
      "Apellido = Buddemberg\n",
      "Email = fco.buddem@gmail.com\n",
      "Celular = +569 8945 5751 \n",
      "\n",
      "id = 6\n",
      "Nombre = Constanza\n",
      "Apellido = Zavala\n",
      "Email = co.zava1006@gmail.com\n",
      "Celular = +569 8734 1532 \n",
      "\n",
      "id = 1\n",
      "Nombre = Thomas\n",
      "Apellido = Buddemberg\n",
      "Email = buddenberg17@gmail.com\n",
      "Celular = +569 8938 9921 \n",
      "\n"
     ]
    }
   ],
   "source": [
    "cur = conexion.cursor()\n",
    "conexion.commit()\n",
    "\n",
    "postgres_delete_query = \"\"\"Delete from\n",
    "    usuario where\n",
    "    user_id = %s\"\"\"\n",
    "id = input('Ingrese el ID del ususario al que desea eliminar: ') \n",
    "delete = [id]\n",
    "\n",
    "cur.execute(postgres_delete_query,delete)\n",
    "print(\"Ejecutado\")\n",
    "conexion.commit()\n",
    "\n",
    "cur = conexion.cursor()\n",
    "conexion.commit()\n",
    "\n",
    "#----------------------------------------------------------------------------------------------------------------\n",
    "\n",
    "cur.execute(\n",
    "    \"\"\"SELECT * from usuario\"\"\"\n",
    ")\n",
    "registros = cur.fetchall()\n",
    "\n",
    "for i in registros:\n",
    "    print(\"id =\", i[0])\n",
    "    print(\"Nombre =\", i[1])\n",
    "    print(\"Apellido =\", i[2])\n",
    "    print(\"Email =\", i[3])\n",
    "    print(\"Celular =\", i[4], \"\\n\")\n",
    "    \n",
    "conexion.commit()"
   ]
  },
  {
   "cell_type": "code",
   "execution_count": null,
   "metadata": {},
   "outputs": [],
   "source": []
  }
 ],
 "metadata": {
  "colab": {
   "authorship_tag": "ABX9TyOzhzANaDLNpKBThXn5Ll9/",
   "collapsed_sections": [],
   "name": "9.1 Actividad.ipynb",
   "provenance": []
  },
  "hide_input": false,
  "kernelspec": {
   "display_name": "Python 3 (ipykernel)",
   "language": "python",
   "name": "python3"
  },
  "language_info": {
   "codemirror_mode": {
    "name": "ipython",
    "version": 3
   },
   "file_extension": ".py",
   "mimetype": "text/x-python",
   "name": "python",
   "nbconvert_exporter": "python",
   "pygments_lexer": "ipython3",
   "version": "3.7.1"
  },
  "nbTranslate": {
   "displayLangs": [
    "*"
   ],
   "hotkey": "alt-t",
   "langInMainMenu": true,
   "sourceLang": "en",
   "targetLang": "fr",
   "useGoogleTranslate": true
  },
  "toc": {
   "base_numbering": 1,
   "nav_menu": {},
   "number_sections": true,
   "sideBar": true,
   "skip_h1_title": false,
   "title_cell": "Table of Contents",
   "title_sidebar": "Contents",
   "toc_cell": false,
   "toc_position": {},
   "toc_section_display": true,
   "toc_window_display": false
  },
  "varInspector": {
   "cols": {
    "lenName": 16,
    "lenType": 16,
    "lenVar": 40
   },
   "kernels_config": {
    "python": {
     "delete_cmd_postfix": "",
     "delete_cmd_prefix": "del ",
     "library": "var_list.py",
     "varRefreshCmd": "print(var_dic_list())"
    },
    "r": {
     "delete_cmd_postfix": ") ",
     "delete_cmd_prefix": "rm(",
     "library": "var_list.r",
     "varRefreshCmd": "cat(var_dic_list()) "
    }
   },
   "types_to_exclude": [
    "module",
    "function",
    "builtin_function_or_method",
    "instance",
    "_Feature"
   ],
   "window_display": false
  }
 },
 "nbformat": 4,
 "nbformat_minor": 1
}
